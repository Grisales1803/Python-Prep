{
 "cells": [
  {
   "attachments": {},
   "cell_type": "markdown",
   "metadata": {},
   "source": [
    "Imprimir el valor de una posición de la matriz"
   ]
  },
  {
   "cell_type": "code",
   "execution_count": 6,
   "metadata": {},
   "outputs": [
    {
     "name": "stdout",
     "output_type": "stream",
     "text": [
      "[[1, 2], [3, 4]]\n",
      "4\n"
     ]
    }
   ],
   "source": [
    "matriz = [[1,2],[3,4]]\n",
    "print(matriz)\n",
    "\n",
    "num = matriz[1][1]\n",
    "print(num)"
   ]
  },
  {
   "attachments": {},
   "cell_type": "markdown",
   "metadata": {},
   "source": [
    "Poner valores en una matriz"
   ]
  },
  {
   "cell_type": "code",
   "execution_count": 16,
   "metadata": {},
   "outputs": [
    {
     "name": "stdout",
     "output_type": "stream",
     "text": [
      "Por favor ingrese el número de filas:\n",
      "Por favor ingrese el número de columnas:\n",
      "Por favor ingrese el valor de la fila  1  y la columna  1\n",
      "Por favor ingrese el valor de la fila  1  y la columna  2\n",
      "Por favor ingrese el valor de la fila  1  y la columna  3\n",
      "Por favor ingrese el valor de la fila  2  y la columna  1\n",
      "Por favor ingrese el valor de la fila  2  y la columna  2\n",
      "Por favor ingrese el valor de la fila  2  y la columna  3\n",
      "Por favor ingrese el valor de la fila  3  y la columna  1\n",
      "Por favor ingrese el valor de la fila  3  y la columna  2\n",
      "Por favor ingrese el valor de la fila  3  y la columna  3\n",
      "[[3, 4, 5], [6, 7, 8], [4, 5, 6]]\n"
     ]
    }
   ],
   "source": [
    "print('Por favor ingrese el número de filas:')\n",
    "filas = int(input())\n",
    "print('Por favor ingrese el número de columnas:')\n",
    "columnas = int(input())\n",
    "\n",
    "#Inicializo la matriz\n",
    "M=[]\n",
    "\n",
    "#Primero pongo valores nulos en cada espacio de la matriz\n",
    "for i in range(0,filas):\n",
    "    M.append([])\n",
    "    for j in range(0,columnas):\n",
    "        M[i].append(None)\n",
    "\n",
    "#Ahora lleno la matriz con los valores que defina el usuario\n",
    "for i in range(0,filas):\n",
    "    for j in range(0,columnas):\n",
    "        print('Por favor ingrese el valor de la fila ',i+1, ' y la columna ', j+1)\n",
    "        M[i][j] = int(input())\n",
    "\n",
    "print(M)\n"
   ]
  },
  {
   "attachments": {},
   "cell_type": "markdown",
   "metadata": {},
   "source": [
    "Agregar valores random a una matriz 3x4"
   ]
  },
  {
   "cell_type": "code",
   "execution_count": 24,
   "metadata": {},
   "outputs": [
    {
     "name": "stdout",
     "output_type": "stream",
     "text": [
      "24  56  49  19  \n",
      "71  10  64  59  \n",
      "44  45  17  28  \n"
     ]
    }
   ],
   "source": [
    "#Se importa el módulo random\n",
    "import random\n",
    "\n",
    "filas = 3\n",
    "columnas = 4\n",
    "\n",
    "#Se crea la matriz\n",
    "Matrix = []\n",
    "\n",
    "#Se inicializa la matriz con valores None\n",
    "for i in range(0,filas):\n",
    "    Matrix.append([])\n",
    "    for j in range(0,columnas):\n",
    "        Matrix[i].append(None)\n",
    "\n",
    "#Se llena la matriz con valores aleatorios\n",
    "for i in range(0,filas):\n",
    "    for j in range(0,columnas):\n",
    "        Matrix[i][j]= random.randint(1,100)\n",
    "\n",
    "#Se imprime la matriz\n",
    "for i in range(0,filas):\n",
    "    for j in range(0,columnas):\n",
    "        print(Matrix[i][j],' ',end='')\n",
    "    print()\n"
   ]
  },
  {
   "attachments": {},
   "cell_type": "markdown",
   "metadata": {},
   "source": [
    "Una distribuidora de Nescafé tiene 4 representantes que viajan por toda la Argentina\n",
    "ofreciendo sus productos. Para tareas administrativas el país está dividido en cinco zonas:\n",
    "Norte, Sur, Este, Oeste y Centro. Mensualmente almacena sus datos y obtiene distintas\n",
    "estadísticas sobre el comportamiento de sus representantes en cada zona. Se desea hacer un\n",
    "programa que lea el monto de las ventas de los representantes en cada zona y calcule luego:\n",
    "\n",
    "a) el total de ventas de una zona introducida por teclado\n",
    "\n",
    "b) el total de ventas de un vendedor introducido por teclado en cada una de las zonas\n",
    "\n",
    "c) el total de ventas de todos los representantes."
   ]
  },
  {
   "cell_type": "code",
   "execution_count": 35,
   "metadata": {},
   "outputs": [
    {
     "name": "stdout",
     "output_type": "stream",
     "text": [
      "Por favor ingrese las ventas mensuales del representante  1 en la zona Norte\n",
      "Por favor ingrese las ventas mensuales del representante  1 en la zona Sur\n",
      "Por favor ingrese las ventas mensuales del representante  1 en la zona Este\n",
      "Por favor ingrese las ventas mensuales del representante  1 en la zona Oeste\n",
      "Por favor ingrese las ventas mensuales del representante  1 en la zona Centro\n",
      "Por favor ingrese las ventas mensuales del representante  2 en la zona Norte\n",
      "Por favor ingrese las ventas mensuales del representante  2 en la zona Sur\n",
      "Por favor ingrese las ventas mensuales del representante  2 en la zona Este\n",
      "Por favor ingrese las ventas mensuales del representante  2 en la zona Oeste\n",
      "Por favor ingrese las ventas mensuales del representante  2 en la zona Centro\n",
      "Por favor ingrese las ventas mensuales del representante  3 en la zona Norte\n",
      "Por favor ingrese las ventas mensuales del representante  3 en la zona Sur\n",
      "Por favor ingrese las ventas mensuales del representante  3 en la zona Este\n",
      "Por favor ingrese las ventas mensuales del representante  3 en la zona Oeste\n",
      "Por favor ingrese las ventas mensuales del representante  3 en la zona Centro\n",
      "Por favor ingrese las ventas mensuales del representante  4 en la zona Norte\n",
      "Por favor ingrese las ventas mensuales del representante  4 en la zona Sur\n",
      "Por favor ingrese las ventas mensuales del representante  4 en la zona Este\n",
      "Por favor ingrese las ventas mensuales del representante  4 en la zona Oeste\n",
      "Por favor ingrese las ventas mensuales del representante  4 en la zona Centro\n",
      "                       Norte     Sur     Este    Oeste   Centro\n",
      "Representante  1        34       56       78       54       34    \n",
      "Representante  2        5       65       43       5       67    \n",
      "Representante  3        89       32       45       67       54    \n",
      "Representante  4        67       67       45       45       76    \n",
      "\n",
      "TOTAL POR ZONAS\n",
      "Por favor ingrese una de las  siguientes zonas:\n",
      "Norte\n",
      "Sur\n",
      "Este\n",
      "Oeste\n",
      "Centro\n",
      "\n",
      "Las ventas mensuales para la zona Este es:  211\n",
      "\n",
      "TOTAL DE REPRESENTANTE POR ZONA\n",
      "Por favor ingrese un representante (1-4):\n",
      "Por favor ingrese un número de representane válido\n",
      "                       Norte     Sur     Este    Oeste   Centro\n",
      "Representante  3        89       32       45       67       54    \n",
      "\n",
      "TOTAL DE VENTAS DE TODOS LOS REPRESENTANTES\n",
      "1028\n"
     ]
    }
   ],
   "source": [
    "#Sacamos las ventas de mensuales de cada representante por cada zona\n",
    "representantes = 4\n",
    "zonas = 5\n",
    "\n",
    "#Inicializamos la matriz\n",
    "Nescafe = []\n",
    "for i in range(0,representantes):\n",
    "    Nescafe.append([])\n",
    "    for j in range(0,zonas):\n",
    "        Nescafe[i].append(None)\n",
    "\n",
    "#Agregamos los valores a la matriz\n",
    "for i in range(0,representantes):\n",
    "    for j in range(0,zonas):\n",
    "        if j==0:\n",
    "            print('Por favor ingrese las ventas mensuales del representante ', i+1, 'en la zona Norte')\n",
    "        elif j==1:\n",
    "            print('Por favor ingrese las ventas mensuales del representante ', i+1, 'en la zona Sur')\n",
    "        elif j==2:\n",
    "            print('Por favor ingrese las ventas mensuales del representante ', i+1, 'en la zona Este')\n",
    "        elif j==3:\n",
    "            print('Por favor ingrese las ventas mensuales del representante ', i+1, 'en la zona Oeste')\n",
    "        else:\n",
    "            print('Por favor ingrese las ventas mensuales del representante ', i+1, 'en la zona Centro')\n",
    "        Nescafe[i][j] = int(input())\n",
    "\n",
    "#Imprimimos la matriz\n",
    "print('                       Norte     Sur     Este    Oeste   Centro')\n",
    "for i in range(0,representantes):\n",
    "    print('Representante ',i+1,'   ',end=' ')\n",
    "    for j in range(0,zonas):\n",
    "        print('  ',Nescafe[i][j],'  ',end=' ')\n",
    "    print('')\n",
    "\n",
    "#Calculamos el total de ventas de una zona introducida\n",
    "print('')\n",
    "print('TOTAL POR ZONAS')\n",
    "print('Por favor ingrese una de las  siguientes zonas:')\n",
    "print('Norte')\n",
    "print('Sur')\n",
    "print('Este')\n",
    "print('Oeste')\n",
    "print('Centro')\n",
    "Incorrecto = True\n",
    "while Incorrecto:\n",
    "    zona = input()\n",
    "    if zona == \"Norte\" or zona == \"Sur\" or zona == \"Este\" or zona == \"Oeste\" or zona == \"Centro\":\n",
    "        Incorrecto = False\n",
    "        continue\n",
    "    print('Por favor ingrese una zona válida')\n",
    "\n",
    "if zona == 'Norte':\n",
    "    zonaN = 0\n",
    "elif zona == 'Sur':\n",
    "    zonaN = 1\n",
    "elif zona == 'Este':\n",
    "    zonaN = 2\n",
    "elif zona == 'Oeste':\n",
    "    zonaN = 3\n",
    "else:\n",
    "    zonaN = 4\n",
    "\n",
    "zonaTotal = 0\n",
    "for i in range(0,representantes):\n",
    "    zonaTotal += Nescafe[i][zonaN]\n",
    "\n",
    "print()\n",
    "if zonaN==0:\n",
    "    print('Las ventas mensuales para la zona Norte es: ', zonaTotal)\n",
    "elif zonaN==1:\n",
    "    print('Las ventas mensuales para la zona Sur es: ', zonaTotal)\n",
    "elif zonaN==2:\n",
    "    print('Las ventas mensuales para la zona Este es: ', zonaTotal)\n",
    "elif zonaN==3:\n",
    "    print('Las ventas mensuales para la zona Oeste es: ', zonaTotal)\n",
    "else:\n",
    "    print('Las ventas mensuales para la zona Centro es: ', zonaTotal)\n",
    "\n",
    "\n",
    "#Calculamos el total de ventas de un representante en cada una de las zonas\n",
    "print('')\n",
    "print('TOTAL DE REPRESENTANTE POR ZONA')\n",
    "print('Por favor ingrese un representante (1-4):')\n",
    "\n",
    "IncorrectoR = True\n",
    "while IncorrectoR:\n",
    "    Rep = int(input())\n",
    "    if Rep == 1 or Rep == 2 or Rep == 3 or Rep == 4:\n",
    "        IncorrectoR = False\n",
    "        continue\n",
    "    print('Por favor ingrese un número de representane válido')\n",
    "\n",
    "print('                       Norte     Sur     Este    Oeste   Centro')\n",
    "print('Representante ',Rep,'   ',end=' ')\n",
    "for j in range(0,zonas):\n",
    "    print('  ',Nescafe[Rep-1][j],'  ',end=' ')\n",
    "print('')\n",
    "\n",
    "#Calculamos el total de ventas de todos los representantes\n",
    "print('')\n",
    "print('TOTAL DE VENTAS DE TODOS LOS REPRESENTANTES')\n",
    "total = 0\n",
    "for i in range(0,representantes):\n",
    "    for j in range(0,zonas):\n",
    "        total += Nescafe[i][j]\n",
    "print(total)\n",
    "\n"
   ]
  }
 ],
 "metadata": {
  "kernelspec": {
   "display_name": "Python 3",
   "language": "python",
   "name": "python3"
  },
  "language_info": {
   "codemirror_mode": {
    "name": "ipython",
    "version": 3
   },
   "file_extension": ".py",
   "mimetype": "text/x-python",
   "name": "python",
   "nbconvert_exporter": "python",
   "pygments_lexer": "ipython3",
   "version": "3.11.3"
  },
  "orig_nbformat": 4
 },
 "nbformat": 4,
 "nbformat_minor": 2
}
